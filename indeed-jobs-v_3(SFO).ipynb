{
 "cells": [
  {
   "cell_type": "code",
   "execution_count": 1,
   "metadata": {
    "ExecuteTime": {
     "end_time": "2020-05-24T13:30:45.565594Z",
     "start_time": "2020-05-24T13:30:44.561750Z"
    }
   },
   "outputs": [],
   "source": [
    "# Import scrapy\n",
    "import scrapy\n",
    "# Import the CrawlerProcess: for running the spider\n",
    "from scrapy.crawler import CrawlerProcess\n",
    "#Pandas for organizing the received data\n",
    "import pandas as pd\n",
    "import time"
   ]
  },
  {
   "cell_type": "code",
   "execution_count": 2,
   "metadata": {
    "ExecuteTime": {
     "end_time": "2020-05-24T13:39:12.196460Z",
     "start_time": "2020-05-24T13:31:03.276030Z"
    },
    "code_folding": [],
    "scrolled": false
   },
   "outputs": [
    {
     "name": "stderr",
     "output_type": "stream",
     "text": [
      "2020-05-24 19:01:03 [scrapy.utils.log] INFO: Scrapy 2.0.1 started (bot: scrapybot)\n",
      "2020-05-24 19:01:03 [scrapy.utils.log] INFO: Versions: lxml 4.4.2.0, libxml2 2.9.10, cssselect 1.1.0, parsel 1.5.2, w3lib 1.20.0, Twisted 20.3.0, Python 3.7.6 | packaged by conda-forge | (default, Mar 23 2020, 22:45:16) - [Clang 9.0.1 ], pyOpenSSL 19.1.0 (OpenSSL 1.1.1g  21 Apr 2020), cryptography 2.9.2, Platform Darwin-19.4.0-x86_64-i386-64bit\n",
      "2020-05-24 19:01:03 [scrapy.utils.log] DEBUG: Using reactor: twisted.internet.selectreactor.SelectReactor\n",
      "2020-05-24 19:01:03 [scrapy.crawler] INFO: Overridden settings:\n",
      "{'COOKIES_ENABLED': False, 'DOWNLOAD_DELAY': 4}\n",
      "2020-05-24 19:01:03 [scrapy.extensions.telnet] INFO: Telnet Password: 033f5e480e1eb3dc\n",
      "2020-05-24 19:01:03 [scrapy.middleware] INFO: Enabled extensions:\n",
      "['scrapy.extensions.corestats.CoreStats',\n",
      " 'scrapy.extensions.telnet.TelnetConsole',\n",
      " 'scrapy.extensions.memusage.MemoryUsage',\n",
      " 'scrapy.extensions.logstats.LogStats']\n",
      "2020-05-24 19:01:03 [scrapy.middleware] INFO: Enabled downloader middlewares:\n",
      "['scrapy.downloadermiddlewares.httpauth.HttpAuthMiddleware',\n",
      " 'scrapy.downloadermiddlewares.downloadtimeout.DownloadTimeoutMiddleware',\n",
      " 'scrapy.downloadermiddlewares.defaultheaders.DefaultHeadersMiddleware',\n",
      " 'scrapy.downloadermiddlewares.useragent.UserAgentMiddleware',\n",
      " 'scrapy.downloadermiddlewares.retry.RetryMiddleware',\n",
      " 'scrapy.downloadermiddlewares.redirect.MetaRefreshMiddleware',\n",
      " 'scrapy.downloadermiddlewares.httpcompression.HttpCompressionMiddleware',\n",
      " 'scrapy.downloadermiddlewares.redirect.RedirectMiddleware',\n",
      " 'scrapy.downloadermiddlewares.httpproxy.HttpProxyMiddleware',\n",
      " 'scrapy.downloadermiddlewares.stats.DownloaderStats']\n",
      "2020-05-24 19:01:03 [scrapy.middleware] INFO: Enabled spider middlewares:\n",
      "['scrapy.spidermiddlewares.httperror.HttpErrorMiddleware',\n",
      " 'scrapy.spidermiddlewares.offsite.OffsiteMiddleware',\n",
      " 'scrapy.spidermiddlewares.referer.RefererMiddleware',\n",
      " 'scrapy.spidermiddlewares.urllength.UrlLengthMiddleware',\n",
      " 'scrapy.spidermiddlewares.depth.DepthMiddleware']\n",
      "2020-05-24 19:01:03 [scrapy.middleware] INFO: Enabled item pipelines:\n",
      "[]\n",
      "2020-05-24 19:01:03 [scrapy.core.engine] INFO: Spider opened\n",
      "2020-05-24 19:01:03 [scrapy.extensions.logstats] INFO: Crawled 0 pages (at 0 pages/min), scraped 0 items (at 0 items/min)\n",
      "2020-05-24 19:01:03 [scrapy.extensions.telnet] INFO: Telnet console listening on 127.0.0.1:6024\n",
      "2020-05-24 19:01:05 [scrapy.core.engine] DEBUG: Crawled (200) <GET https://www.indeed.com/jobs?q=data+scientist&l=San+Francisco+Bay+Area,+CA&radius=50&start=0> (referer: None)\n",
      "2020-05-24 19:01:09 [scrapy.downloadermiddlewares.redirect] DEBUG: Redirecting (301) to <GET https://www.indeed.com/viewjob?cmp=Triplebyte&t=Data+Scientist&jk=d5326d3f749525a9&vjs=3> from <GET https://www.indeed.com/company/Triplebyte/jobs/Data-Scientist-d5326d3f749525a9?fccid=8b07fcf2429eed01&vjs=3>\n",
      "2020-05-24 19:01:14 [scrapy.core.engine] DEBUG: Crawled (200) <GET https://www.indeed.com/jobs?q=data+scientist&l=San+Francisco+Bay+Area%2C+CA&radius=50&start=10> (referer: https://www.indeed.com/jobs?q=data+scientist&l=San+Francisco+Bay+Area,+CA&radius=50&start=0)\n",
      "2020-05-24 19:01:18 [scrapy.downloadermiddlewares.redirect] DEBUG: Redirecting (302) to <GET https://www.indeed.com/viewjob?jk=ecacf58f2f41884b&from=serp&vjs=3> from <GET https://www.indeed.com/rc/clk?jk=ecacf58f2f41884b&fccid=b6a22a06e345134a&vjs=3>\n",
      "2020-05-24 19:01:21 [scrapy.downloadermiddlewares.redirect] DEBUG: Redirecting (302) to <GET https://us.conv.indeed.com/rc/clk?jk=544e3faafc2bf1d7&ctk=1e93e2u8gf33j802&t=cr&rctype=oth&orgclktk=1e93e2u8kf33j801&vjs=3&wwwho=4m_xAU4HGQbAlJdZTkhlA8hEG_rFObn1> from <GET https://www.indeed.com/rc/clk?jk=544e3faafc2bf1d7&fccid=d978045561911d24&vjs=3>\n",
      "2020-05-24 19:01:26 [scrapy.downloadermiddlewares.redirect] DEBUG: Redirecting (302) to <GET https://us.conv.indeed.com/rc/clk?jk=43f922f9974f06bb&ctk=1e93e337obmn5802&t=cr&rctype=oth&orgclktk=1e93e337sbmn5801&vjs=3&wwwho=4m_xAU4HGQbAlJdZTkhlA8hEG_rFObn1> from <GET https://www.indeed.com/rc/clk?jk=43f922f9974f06bb&fccid=0da3ed18c20a248d&vjs=3>\n",
      "2020-05-24 19:01:32 [scrapy.downloadermiddlewares.redirect] DEBUG: Redirecting (302) to <GET https://www.indeed.com/viewjob?jk=3289d2026bac7001&from=serp&vjs=3> from <GET https://www.indeed.com/rc/clk?jk=3289d2026bac7001&fccid=0555014e7bce64c3&vjs=3>\n",
      "2020-05-24 19:01:37 [scrapy.downloadermiddlewares.redirect] DEBUG: Redirecting (302) to <GET https://www.indeed.com/viewjob?jk=69f3b39791a4d24d&from=serp&vjs=3> from <GET https://www.indeed.com/rc/clk?jk=69f3b39791a4d24d&fccid=dd616958bd9ddc12&vjs=3>\n",
      "2020-05-24 19:01:42 [scrapy.downloadermiddlewares.redirect] DEBUG: Redirecting (302) to <GET https://us.conv.indeed.com/rc/clk?jk=45811e1c376e78ca&ctk=1e93e3ij91sbs002&t=cr&rctype=oth&orgclktk=1e93e3ijd1sbs000&vjs=3&wwwho=4m_xAU4HGQbAlJdZTkhlA8hEG_rFObn1> from <GET https://www.indeed.com/rc/clk?jk=45811e1c376e78ca&fccid=f89deb5a97c7738a&vjs=3>\n",
      "2020-05-24 19:01:46 [scrapy.downloadermiddlewares.redirect] DEBUG: Redirecting (302) to <GET https://www.indeed.com/viewjob?jk=7ce9e0a3bb536d7a&from=serp&vjs=3> from <GET https://www.indeed.com/rc/clk?jk=7ce9e0a3bb536d7a&fccid=2241d500446137f1&vjs=3>\n",
      "2020-05-24 19:01:52 [scrapy.downloadermiddlewares.redirect] DEBUG: Redirecting (302) to <GET https://us.conv.indeed.com/rc/clk?jk=a321cb07b657c438&ctk=1e93e3s5ebm1e802&t=cr&rctype=oth&orgclktk=1e93e3s5jbm1e801&vjs=3&wwwho=4m_xAU4HGQbAlJdZTkhlA8hEG_rFObn1> from <GET https://www.indeed.com/rc/clk?jk=a321cb07b657c438&fccid=88f5d9a70576ec2a&vjs=3>\n",
      "2020-05-24 19:01:56 [scrapy.downloadermiddlewares.redirect] DEBUG: Redirecting (302) to <GET https://www.indeed.com/viewjob?jk=281c22f20aaf3dc9&from=serp&vjs=3> from <GET https://www.indeed.com/rc/clk?jk=281c22f20aaf3dc9&fccid=7a3824693ee1074b&vjs=3>\n",
      "2020-05-24 19:02:01 [scrapy.core.engine] DEBUG: Crawled (200) <GET https://www.indeed.com/viewjob?cmp=Triplebyte&t=Data+Scientist&jk=d5326d3f749525a9&vjs=3> (referer: https://www.indeed.com/jobs?q=data+scientist&l=San+Francisco+Bay+Area,+CA&radius=50&start=0)\n",
      "2020-05-24 19:02:03 [scrapy.extensions.logstats] INFO: Crawled 3 pages (at 3 pages/min), scraped 0 items (at 0 items/min)\n",
      "2020-05-24 19:02:06 [scrapy.downloadermiddlewares.redirect] DEBUG: Redirecting (302) to <GET https://us.conv.indeed.com/rc/clk?jk=a10d6ff9aa28ac22&ctk=1e93e4a74f37n802&t=cr&rctype=oth&orgclktk=1e93e4a78f37n800&vjs=3&wwwho=4m_xAU4HGQbAlJdZTkhlA8hEG_rFObn1> from <GET https://www.indeed.com/rc/clk?jk=a10d6ff9aa28ac22&fccid=c1099851e9794854&vjs=3>\n",
      "2020-05-24 19:02:11 [scrapy.core.engine] DEBUG: Crawled (200) <GET https://www.indeed.com/jobs?q=data+scientist&l=San+Francisco+Bay+Area%2C+CA&radius=50&start=20> (referer: https://www.indeed.com/jobs?q=data+scientist&l=San+Francisco+Bay+Area%2C+CA&radius=50&start=10)\n",
      "2020-05-24 19:02:15 [scrapy.downloadermiddlewares.redirect] DEBUG: Redirecting (302) to <GET https://us.conv.indeed.com/rc/clk?jk=774e8ab55a4627fb&ctk=1e93e4j7jf37n802&t=cr&rctype=oth&orgclktk=1e93e4j7nf37n801&vjs=3&wwwho=4m_xAU4HGQbAlJdZTkhlA8hEG_rFObn1> from <GET https://www.indeed.com/rc/clk?jk=774e8ab55a4627fb&fccid=f766f8bfbc3effb7&vjs=3>\n",
      "2020-05-24 19:02:19 [scrapy.downloadermiddlewares.redirect] DEBUG: Redirecting (302) to <GET https://us.conv.indeed.com/rc/clk?jk=e6480711f39799a1&ctk=1e93e4mspf2cq800&t=cr&rctype=oth&orgclktk=1e93e4msuf2cq800&vjs=3&wwwho=4m_xAU4HGQbAlJdZTkhlA8hEG_rFObn1> from <GET https://www.indeed.com/rc/clk?jk=e6480711f39799a1&fccid=6c6f37e2a6cb4c55&vjs=3>\n",
      "2020-05-24 19:02:25 [scrapy.downloadermiddlewares.redirect] DEBUG: Redirecting (302) to <GET https://www.indeed.com/viewjob?jk=e79cc69e87cd117c&from=serp&vjs=3> from <GET https://www.indeed.com/rc/clk?jk=e79cc69e87cd117c&fccid=df4d25d87e00f676&vjs=3>\n",
      "2020-05-24 19:02:29 [scrapy.downloadermiddlewares.redirect] DEBUG: Redirecting (302) to <GET https://us.conv.indeed.com/rc/clk?jk=23eda85606ddabf1&ctk=1e93e510nf1aj802&t=cr&rctype=oth&orgclktk=1e93e510rf1aj800&vjs=3&wwwho=4m_xAU4HGQbAlJdZTkhlA8hEG_rFObn1> from <GET https://www.indeed.com/rc/clk?jk=23eda85606ddabf1&fccid=5bee64c47451d1c2&vjs=3>\n",
      "2020-05-24 19:02:34 [scrapy.core.engine] DEBUG: Crawled (200) <GET https://www.indeed.com/viewjob?jk=ecacf58f2f41884b&from=serp&vjs=3> (referer: https://www.indeed.com/jobs?q=data+scientist&l=San+Francisco+Bay+Area,+CA&radius=50&start=0)\n"
     ]
    },
    {
     "name": "stderr",
     "output_type": "stream",
     "text": [
      "2020-05-24 19:02:39 [scrapy.downloadermiddlewares.redirect] DEBUG: Redirecting (302) to <GET https://www.indeed.com/viewjob?jk=544e3faafc2bf1d7&from=serp&vjs=3> from <GET https://us.conv.indeed.com/rc/clk?jk=544e3faafc2bf1d7&ctk=1e93e2u8gf33j802&t=cr&rctype=oth&orgclktk=1e93e2u8kf33j801&vjs=3&wwwho=4m_xAU4HGQbAlJdZTkhlA8hEG_rFObn1>\n",
      "2020-05-24 19:02:43 [scrapy.downloadermiddlewares.redirect] DEBUG: Redirecting (302) to <GET https://www.indeed.com/viewjob?jk=43f922f9974f06bb&from=serp&vjs=3> from <GET https://us.conv.indeed.com/rc/clk?jk=43f922f9974f06bb&ctk=1e93e337obmn5802&t=cr&rctype=oth&orgclktk=1e93e337sbmn5801&vjs=3&wwwho=4m_xAU4HGQbAlJdZTkhlA8hEG_rFObn1>\n",
      "2020-05-24 19:02:48 [scrapy.core.engine] DEBUG: Crawled (200) <GET https://www.indeed.com/viewjob?jk=3289d2026bac7001&from=serp&vjs=3> (referer: https://www.indeed.com/jobs?q=data+scientist&l=San+Francisco+Bay+Area,+CA&radius=50&start=0)\n",
      "2020-05-24 19:02:53 [scrapy.core.engine] DEBUG: Crawled (200) <GET https://www.indeed.com/viewjob?jk=69f3b39791a4d24d&from=serp&vjs=3> (referer: https://www.indeed.com/jobs?q=data+scientist&l=San+Francisco+Bay+Area,+CA&radius=50&start=0)\n",
      "2020-05-24 19:02:58 [scrapy.downloadermiddlewares.redirect] DEBUG: Redirecting (302) to <GET https://www.indeed.com/viewjob?jk=45811e1c376e78ca&from=serp&vjs=3> from <GET https://us.conv.indeed.com/rc/clk?jk=45811e1c376e78ca&ctk=1e93e3ij91sbs002&t=cr&rctype=oth&orgclktk=1e93e3ijd1sbs000&vjs=3&wwwho=4m_xAU4HGQbAlJdZTkhlA8hEG_rFObn1>\n",
      "2020-05-24 19:03:02 [scrapy.core.engine] DEBUG: Crawled (200) <GET https://www.indeed.com/viewjob?jk=7ce9e0a3bb536d7a&from=serp&vjs=3> (referer: https://www.indeed.com/jobs?q=data+scientist&l=San+Francisco+Bay+Area,+CA&radius=50&start=0)\n",
      "2020-05-24 19:03:03 [scrapy.extensions.logstats] INFO: Crawled 8 pages (at 5 pages/min), scraped 0 items (at 0 items/min)\n",
      "2020-05-24 19:03:07 [scrapy.downloadermiddlewares.redirect] DEBUG: Redirecting (302) to <GET https://www.indeed.com/viewjob?jk=a321cb07b657c438&from=serp&vjs=3> from <GET https://us.conv.indeed.com/rc/clk?jk=a321cb07b657c438&ctk=1e93e3s5ebm1e802&t=cr&rctype=oth&orgclktk=1e93e3s5jbm1e801&vjs=3&wwwho=4m_xAU4HGQbAlJdZTkhlA8hEG_rFObn1>\n",
      "2020-05-24 19:03:11 [scrapy.core.engine] DEBUG: Crawled (200) <GET https://www.indeed.com/viewjob?jk=281c22f20aaf3dc9&from=serp&vjs=3> (referer: https://www.indeed.com/jobs?q=data+scientist&l=San+Francisco+Bay+Area,+CA&radius=50&start=0)\n",
      "2020-05-24 19:03:14 [scrapy.downloadermiddlewares.redirect] DEBUG: Redirecting (302) to <GET https://www.indeed.com/viewjob?jk=5b34afcf6f450cdb&from=serp&vjs=3> from <GET https://www.indeed.com/rc/clk?jk=5b34afcf6f450cdb&fccid=55ebd28e88790c63&vjs=3>\n",
      "2020-05-24 19:03:18 [scrapy.downloadermiddlewares.redirect] DEBUG: Redirecting (302) to <GET https://www.indeed.com/viewjob?jk=a10d6ff9aa28ac22&from=serp&vjs=3> from <GET https://us.conv.indeed.com/rc/clk?jk=a10d6ff9aa28ac22&ctk=1e93e4a74f37n802&t=cr&rctype=oth&orgclktk=1e93e4a78f37n800&vjs=3&wwwho=4m_xAU4HGQbAlJdZTkhlA8hEG_rFObn1>\n",
      "2020-05-24 19:03:21 [scrapy.downloadermiddlewares.redirect] DEBUG: Redirecting (302) to <GET https://www.indeed.com/viewjob?jk=6539c454803ac279&from=serp&vjs=3> from <GET https://www.indeed.com/rc/clk?jk=6539c454803ac279&fccid=9e6cc9e51c2613ab&vjs=3>\n",
      "2020-05-24 19:03:27 [scrapy.downloadermiddlewares.redirect] DEBUG: Redirecting (302) to <GET https://www.indeed.com/viewjob?jk=774e8ab55a4627fb&from=serp&vjs=3> from <GET https://us.conv.indeed.com/rc/clk?jk=774e8ab55a4627fb&ctk=1e93e4j7jf37n802&t=cr&rctype=oth&orgclktk=1e93e4j7nf37n801&vjs=3&wwwho=4m_xAU4HGQbAlJdZTkhlA8hEG_rFObn1>\n",
      "2020-05-24 19:03:32 [scrapy.downloadermiddlewares.redirect] DEBUG: Redirecting (302) to <GET https://www.indeed.com/viewjob?jk=e6480711f39799a1&from=serp&vjs=3> from <GET https://us.conv.indeed.com/rc/clk?jk=e6480711f39799a1&ctk=1e93e4mspf2cq800&t=cr&rctype=oth&orgclktk=1e93e4msuf2cq800&vjs=3&wwwho=4m_xAU4HGQbAlJdZTkhlA8hEG_rFObn1>\n",
      "2020-05-24 19:03:36 [scrapy.core.engine] DEBUG: Crawled (200) <GET https://www.indeed.com/viewjob?jk=e79cc69e87cd117c&from=serp&vjs=3> (referer: https://www.indeed.com/jobs?q=data+scientist&l=San+Francisco+Bay+Area%2C+CA&radius=50&start=10)\n",
      "2020-05-24 19:03:40 [scrapy.downloadermiddlewares.redirect] DEBUG: Redirecting (302) to <GET https://www.indeed.com/viewjob?jk=23eda85606ddabf1&from=serp&vjs=3> from <GET https://us.conv.indeed.com/rc/clk?jk=23eda85606ddabf1&ctk=1e93e510nf1aj802&t=cr&rctype=oth&orgclktk=1e93e510rf1aj800&vjs=3&wwwho=4m_xAU4HGQbAlJdZTkhlA8hEG_rFObn1>\n",
      "2020-05-24 19:03:46 [scrapy.core.engine] DEBUG: Crawled (200) <GET https://www.indeed.com/jobs?q=data+scientist&l=San+Francisco+Bay+Area%2C+CA&radius=50&start=30> (referer: https://www.indeed.com/jobs?q=data+scientist&l=San+Francisco+Bay+Area%2C+CA&radius=50&start=20)\n",
      "2020-05-24 19:03:49 [scrapy.core.engine] DEBUG: Crawled (200) <GET https://www.indeed.com/viewjob?jk=544e3faafc2bf1d7&from=serp&vjs=3> (referer: https://www.indeed.com/jobs?q=data+scientist&l=San+Francisco+Bay+Area,+CA&radius=50&start=0)\n",
      "2020-05-24 19:03:53 [scrapy.core.engine] DEBUG: Crawled (200) <GET https://www.indeed.com/viewjob?jk=43f922f9974f06bb&from=serp&vjs=3> (referer: https://www.indeed.com/jobs?q=data+scientist&l=San+Francisco+Bay+Area,+CA&radius=50&start=0)\n",
      "2020-05-24 19:03:57 [scrapy.downloadermiddlewares.redirect] DEBUG: Redirecting (302) to <GET https://www.indeed.com/viewjob?jk=2afdf54c472105e8&from=serp&vjs=3> from <GET https://www.indeed.com/rc/clk?jk=2afdf54c472105e8&fccid=34e432285076b351&vjs=3>\n",
      "2020-05-24 19:04:03 [scrapy.downloadermiddlewares.redirect] DEBUG: Redirecting (302) to <GET https://us.conv.indeed.com/rc/clk?jk=b912acd8d9e43a23&ctk=1e93e7s4hf37m802&t=cr&rctype=oth&orgclktk=1e93e7s4lf37m801&vjs=3&wwwho=4m_xAU4HGQbAlJdZTkhlA8hEG_rFObn1> from <GET https://www.indeed.com/rc/clk?jk=b912acd8d9e43a23&fccid=e6d4ba9e2cfe7902&vjs=3>\n",
      "2020-05-24 19:04:03 [scrapy.extensions.logstats] INFO: Crawled 13 pages (at 5 pages/min), scraped 0 items (at 0 items/min)\n",
      "2020-05-24 19:04:09 [scrapy.core.engine] DEBUG: Crawled (200) <GET https://www.indeed.com/viewjob?jk=45811e1c376e78ca&from=serp&vjs=3> (referer: https://www.indeed.com/jobs?q=data+scientist&l=San+Francisco+Bay+Area,+CA&radius=50&start=0)\n",
      "2020-05-24 19:04:14 [scrapy.downloadermiddlewares.redirect] DEBUG: Redirecting (302) to <GET https://www.indeed.com/viewjob?jk=baa3ad46d10a2591&from=serp&vjs=3> from <GET https://www.indeed.com/rc/clk?jk=baa3ad46d10a2591&fccid=617690ce838507f3&vjs=3>\n",
      "2020-05-24 19:04:18 [scrapy.core.engine] DEBUG: Crawled (200) <GET https://www.indeed.com/viewjob?jk=a321cb07b657c438&from=serp&vjs=3> (referer: https://www.indeed.com/jobs?q=data+scientist&l=San+Francisco+Bay+Area,+CA&radius=50&start=0)\n",
      "2020-05-24 19:04:24 [scrapy.downloadermiddlewares.redirect] DEBUG: Redirecting (302) to <GET https://www.indeed.com/viewjob?jk=19559f2a996703a4&from=serp&vjs=3> from <GET https://www.indeed.com/rc/clk?jk=19559f2a996703a4&fccid=0873794f3850dc95&vjs=3>\n",
      "2020-05-24 19:04:30 [scrapy.core.engine] DEBUG: Crawled (200) <GET https://www.indeed.com/viewjob?jk=5b34afcf6f450cdb&from=serp&vjs=3> (referer: https://www.indeed.com/jobs?q=data+scientist&l=San+Francisco+Bay+Area%2C+CA&radius=50&start=10)\n",
      "2020-05-24 19:04:35 [scrapy.core.engine] DEBUG: Crawled (200) <GET https://www.indeed.com/viewjob?jk=a10d6ff9aa28ac22&from=serp&vjs=3> (referer: https://www.indeed.com/jobs?q=data+scientist&l=San+Francisco+Bay+Area%2C+CA&radius=50&start=10)\n",
      "2020-05-24 19:04:42 [scrapy.core.engine] DEBUG: Crawled (200) <GET https://www.indeed.com/viewjob?jk=6539c454803ac279&from=serp&vjs=3> (referer: https://www.indeed.com/jobs?q=data+scientist&l=San+Francisco+Bay+Area%2C+CA&radius=50&start=10)\n",
      "2020-05-24 19:04:47 [scrapy.core.engine] DEBUG: Crawled (200) <GET https://www.indeed.com/viewjob?jk=774e8ab55a4627fb&from=serp&vjs=3> (referer: https://www.indeed.com/jobs?q=data+scientist&l=San+Francisco+Bay+Area%2C+CA&radius=50&start=10)\n",
      "2020-05-24 19:04:53 [scrapy.core.engine] DEBUG: Crawled (200) <GET https://www.indeed.com/viewjob?jk=e6480711f39799a1&from=serp&vjs=3> (referer: https://www.indeed.com/jobs?q=data+scientist&l=San+Francisco+Bay+Area%2C+CA&radius=50&start=10)\n",
      "2020-05-24 19:04:57 [scrapy.downloadermiddlewares.redirect] DEBUG: Redirecting (302) to <GET https://www.indeed.com/viewjob?jk=8916a53bca9eb4e4&from=serp&vjs=3> from <GET https://www.indeed.com/rc/clk?jk=8916a53bca9eb4e4&fccid=48ea04276ecce7e5&vjs=3>\n"
     ]
    },
    {
     "name": "stderr",
     "output_type": "stream",
     "text": [
      "2020-05-24 19:05:03 [scrapy.extensions.logstats] INFO: Crawled 20 pages (at 7 pages/min), scraped 0 items (at 0 items/min)\n",
      "2020-05-24 19:05:03 [scrapy.core.engine] DEBUG: Crawled (200) <GET https://www.indeed.com/viewjob?jk=23eda85606ddabf1&from=serp&vjs=3> (referer: https://www.indeed.com/jobs?q=data+scientist&l=San+Francisco+Bay+Area%2C+CA&radius=50&start=10)\n",
      "2020-05-24 19:05:07 [scrapy.downloadermiddlewares.redirect] DEBUG: Redirecting (302) to <GET https://us.conv.indeed.com/rc/clk?jk=70388dfaf7fc2709&ctk=1e93e9qrrf1fa802&t=cr&rctype=oth&orgclktk=1e93e9qs0f1fa800&vjs=3&wwwho=4m_xAU4HGQbAlJdZTkhlA8hEG_rFObn1> from <GET https://www.indeed.com/rc/clk?jk=70388dfaf7fc2709&fccid=1b866506aec22461&vjs=3>\n",
      "2020-05-24 19:05:12 [scrapy.downloadermiddlewares.redirect] DEBUG: Redirecting (302) to <GET https://us.conv.indeed.com/rc/clk?jk=593e22de9139a6f1&ctk=1e93e9vvpnhi6802&t=cr&rctype=oth&orgclktk=1e93e9vvunhi6800&vjs=3&wwwho=4m_xAU4HGQbAlJdZTkhlA8hEG_rFObn1> from <GET https://www.indeed.com/rc/clk?jk=593e22de9139a6f1&fccid=978d9fd9799d55a8&vjs=3>\n",
      "2020-05-24 19:05:16 [scrapy.downloadermiddlewares.redirect] DEBUG: Redirecting (302) to <GET https://www.indeed.com/viewjob?jk=f6b699d8c13fcedd&from=serp&vjs=3> from <GET https://www.indeed.com/rc/clk?jk=f6b699d8c13fcedd&fccid=5b4ea6c0422a3b24&vjs=3>\n",
      "2020-05-24 19:05:22 [scrapy.core.engine] DEBUG: Crawled (200) <GET https://www.indeed.com/viewjob?jk=2afdf54c472105e8&from=serp&vjs=3> (referer: https://www.indeed.com/jobs?q=data+scientist&l=San+Francisco+Bay+Area%2C+CA&radius=50&start=20)\n",
      "2020-05-24 19:05:28 [scrapy.downloadermiddlewares.redirect] DEBUG: Redirecting (302) to <GET https://www.indeed.com/viewjob?jk=b912acd8d9e43a23&from=serp&vjs=3> from <GET https://us.conv.indeed.com/rc/clk?jk=b912acd8d9e43a23&ctk=1e93e7s4hf37m802&t=cr&rctype=oth&orgclktk=1e93e7s4lf37m801&vjs=3&wwwho=4m_xAU4HGQbAlJdZTkhlA8hEG_rFObn1>\n",
      "2020-05-24 19:05:33 [scrapy.downloadermiddlewares.redirect] DEBUG: Redirecting (302) to <GET https://www.indeed.com/viewjob?jk=2317130c41af09f8&from=serp&vjs=3> from <GET https://www.indeed.com/rc/clk?jk=2317130c41af09f8&fccid=60d8eba86d738ba1&vjs=3>\n",
      "2020-05-24 19:05:39 [scrapy.core.engine] DEBUG: Crawled (200) <GET https://www.indeed.com/viewjob?jk=baa3ad46d10a2591&from=serp&vjs=3> (referer: https://www.indeed.com/jobs?q=data+scientist&l=San+Francisco+Bay+Area%2C+CA&radius=50&start=20)\n",
      "2020-05-24 19:05:44 [scrapy.downloadermiddlewares.redirect] DEBUG: Redirecting (302) to <GET https://www.indeed.com/viewjob?jk=0ff30ec28c5ac593&from=serp&vjs=3> from <GET https://www.indeed.com/rc/clk?jk=0ff30ec28c5ac593&fccid=c659788ec6cc356e&vjs=3>\n",
      "2020-05-24 19:05:50 [scrapy.core.engine] DEBUG: Crawled (200) <GET https://www.indeed.com/viewjob?jk=19559f2a996703a4&from=serp&vjs=3> (referer: https://www.indeed.com/jobs?q=data+scientist&l=San+Francisco+Bay+Area%2C+CA&radius=50&start=20)\n",
      "2020-05-24 19:05:54 [scrapy.downloadermiddlewares.redirect] DEBUG: Redirecting (302) to <GET https://www.indeed.com/viewjob?jk=407029e63a6217ae&from=serp&vjs=3> from <GET https://www.indeed.com/rc/clk?jk=407029e63a6217ae&fccid=1a3d78ddf45c0b3f&vjs=3>\n",
      "2020-05-24 19:06:00 [scrapy.downloadermiddlewares.redirect] DEBUG: Redirecting (302) to <GET https://us.conv.indeed.com/rc/clk?jk=2fdba430b3aac266&ctk=1e93ebenvf0d5800&t=cr&rctype=oth&orgclktk=1e93ebeo3f0d5800&vjs=3&wwwho=4m_xAU4HGQbAlJdZTkhlA8hEG_rFObn1> from <GET https://www.indeed.com/rc/clk?jk=2fdba430b3aac266&fccid=8559e6c611394c0c&vjs=3>\n",
      "2020-05-24 19:06:03 [scrapy.downloadermiddlewares.redirect] DEBUG: Redirecting (302) to <GET https://www.indeed.com/viewjob?jk=351c40eeba1585a5&from=serp&vjs=3> from <GET https://www.indeed.com/rc/clk?jk=351c40eeba1585a5&fccid=43014b1412e0a7b6&vjs=3>\n",
      "2020-05-24 19:06:03 [scrapy.extensions.logstats] INFO: Crawled 24 pages (at 4 pages/min), scraped 0 items (at 0 items/min)\n",
      "2020-05-24 19:06:07 [scrapy.downloadermiddlewares.redirect] DEBUG: Redirecting (302) to <GET https://us.conv.indeed.com/rc/clk?jk=eec051c0dd0eb1d2&ctk=1e93ebm0hf37n802&t=cr&rctype=oth&orgclktk=1e93ebm0kf37n801&vjs=3&wwwho=4m_xAU4HGQbAlJdZTkhlA8hEG_rFObn1> from <GET https://www.indeed.com/rc/clk?jk=eec051c0dd0eb1d2&fccid=74fbc768a4e5bece&vjs=3>\n",
      "2020-05-24 19:06:12 [scrapy.downloadermiddlewares.redirect] DEBUG: Redirecting (302) to <GET https://us.conv.indeed.com/rc/clk?jk=c52ddc743a13f227&ctk=1e93ebqfjnguf802&t=cr&rctype=oth&orgclktk=1e93ebqfnnguf801&vjs=3&wwwho=4m_xAU4HGQbAlJdZTkhlA8hEG_rFObn1> from <GET https://www.indeed.com/rc/clk?jk=c52ddc743a13f227&fccid=dc023faa36b88bf2&vjs=3>\n",
      "2020-05-24 19:06:17 [scrapy.core.engine] DEBUG: Crawled (200) <GET https://www.indeed.com/viewjob?jk=8916a53bca9eb4e4&from=serp&vjs=3> (referer: https://www.indeed.com/jobs?q=data+scientist&l=San+Francisco+Bay+Area%2C+CA&radius=50&start=20)\n",
      "2020-05-24 19:06:22 [scrapy.downloadermiddlewares.redirect] DEBUG: Redirecting (302) to <GET https://us.conv.indeed.com/rc/clk?jk=44d81949affdc9ec&ctk=1e93ec432f23j802&t=cr&rctype=oth&orgclktk=1e93ec436f23j801&vjs=3&wwwho=4m_xAU4HGQbAlJdZTkhlA8hEG_rFObn1> from <GET https://www.indeed.com/rc/clk?jk=44d81949affdc9ec&fccid=69c7d55b78dc7424&vjs=3>\n",
      "2020-05-24 19:06:27 [scrapy.downloadermiddlewares.redirect] DEBUG: Redirecting (302) to <GET https://www.indeed.com/viewjob?jk=70388dfaf7fc2709&from=serp&vjs=3> from <GET https://us.conv.indeed.com/rc/clk?jk=70388dfaf7fc2709&ctk=1e93e9qrrf1fa802&t=cr&rctype=oth&orgclktk=1e93e9qs0f1fa800&vjs=3&wwwho=4m_xAU4HGQbAlJdZTkhlA8hEG_rFObn1>\n",
      "2020-05-24 19:06:30 [scrapy.downloadermiddlewares.redirect] DEBUG: Redirecting (302) to <GET https://www.indeed.com/viewjob?jk=593e22de9139a6f1&from=serp&vjs=3> from <GET https://us.conv.indeed.com/rc/clk?jk=593e22de9139a6f1&ctk=1e93e9vvpnhi6802&t=cr&rctype=oth&orgclktk=1e93e9vvunhi6800&vjs=3&wwwho=4m_xAU4HGQbAlJdZTkhlA8hEG_rFObn1>\n",
      "2020-05-24 19:06:36 [scrapy.core.engine] DEBUG: Crawled (200) <GET https://www.indeed.com/viewjob?jk=f6b699d8c13fcedd&from=serp&vjs=3> (referer: https://www.indeed.com/jobs?q=data+scientist&l=San+Francisco+Bay+Area%2C+CA&radius=50&start=30)\n",
      "2020-05-24 19:06:41 [scrapy.downloadermiddlewares.redirect] DEBUG: Redirecting (302) to <GET https://www.indeed.com/viewjob?jk=37a1cf43ea0fcfae&from=serp&vjs=3> from <GET https://www.indeed.com/rc/clk?jk=37a1cf43ea0fcfae&fccid=f7b4fcc3fc83b5ad&vjs=3>\n",
      "2020-05-24 19:06:47 [scrapy.core.engine] DEBUG: Crawled (200) <GET https://www.indeed.com/viewjob?jk=b912acd8d9e43a23&from=serp&vjs=3> (referer: https://www.indeed.com/jobs?q=data+scientist&l=San+Francisco+Bay+Area%2C+CA&radius=50&start=20)\n",
      "2020-05-24 19:06:53 [scrapy.core.engine] DEBUG: Crawled (200) <GET https://www.indeed.com/viewjob?jk=2317130c41af09f8&from=serp&vjs=3> (referer: https://www.indeed.com/jobs?q=data+scientist&l=San+Francisco+Bay+Area%2C+CA&radius=50&start=30)\n",
      "2020-05-24 19:06:58 [scrapy.downloadermiddlewares.redirect] DEBUG: Redirecting (302) to <GET https://www.indeed.com/viewjob?jk=6d9df492f8e0fc9e&from=serp&vjs=3> from <GET https://www.indeed.com/rc/clk?jk=6d9df492f8e0fc9e&fccid=214357139b3d02ca&vjs=3>\n",
      "2020-05-24 19:07:03 [scrapy.extensions.logstats] INFO: Crawled 28 pages (at 4 pages/min), scraped 0 items (at 0 items/min)\n",
      "2020-05-24 19:07:04 [scrapy.core.engine] DEBUG: Crawled (200) <GET https://www.indeed.com/viewjob?jk=0ff30ec28c5ac593&from=serp&vjs=3> (referer: https://www.indeed.com/jobs?q=data+scientist&l=San+Francisco+Bay+Area%2C+CA&radius=50&start=30)\n",
      "2020-05-24 19:07:09 [scrapy.downloadermiddlewares.redirect] DEBUG: Redirecting (302) to <GET https://www.indeed.com/viewjob?jk=2a365dd985a86da5&from=serp&vjs=3> from <GET https://www.indeed.com/rc/clk?jk=2a365dd985a86da5&fccid=ce4bc132b13fb5df&vjs=3>\n",
      "2020-05-24 19:07:14 [scrapy.core.engine] DEBUG: Crawled (200) <GET https://www.indeed.com/viewjob?jk=407029e63a6217ae&from=serp&vjs=3> (referer: https://www.indeed.com/jobs?q=data+scientist&l=San+Francisco+Bay+Area%2C+CA&radius=50&start=30)\n",
      "2020-05-24 19:07:17 [scrapy.downloadermiddlewares.redirect] DEBUG: Redirecting (302) to <GET https://www.indeed.com/viewjob?jk=2fdba430b3aac266&from=serp&vjs=3> from <GET https://us.conv.indeed.com/rc/clk?jk=2fdba430b3aac266&ctk=1e93ebenvf0d5800&t=cr&rctype=oth&orgclktk=1e93ebeo3f0d5800&vjs=3&wwwho=4m_xAU4HGQbAlJdZTkhlA8hEG_rFObn1>\n"
     ]
    },
    {
     "name": "stderr",
     "output_type": "stream",
     "text": [
      "2020-05-24 19:07:23 [scrapy.core.engine] DEBUG: Crawled (200) <GET https://www.indeed.com/viewjob?jk=351c40eeba1585a5&from=serp&vjs=3> (referer: https://www.indeed.com/jobs?q=data+scientist&l=San+Francisco+Bay+Area%2C+CA&radius=50&start=30)\n",
      "2020-05-24 19:07:27 [scrapy.downloadermiddlewares.redirect] DEBUG: Redirecting (302) to <GET https://www.indeed.com/viewjob?jk=eec051c0dd0eb1d2&from=serp&vjs=3> from <GET https://us.conv.indeed.com/rc/clk?jk=eec051c0dd0eb1d2&ctk=1e93ebm0hf37n802&t=cr&rctype=oth&orgclktk=1e93ebm0kf37n801&vjs=3&wwwho=4m_xAU4HGQbAlJdZTkhlA8hEG_rFObn1>\n",
      "2020-05-24 19:07:33 [scrapy.downloadermiddlewares.redirect] DEBUG: Redirecting (302) to <GET https://www.indeed.com/viewjob?jk=c52ddc743a13f227&from=serp&vjs=3> from <GET https://us.conv.indeed.com/rc/clk?jk=c52ddc743a13f227&ctk=1e93ebqfjnguf802&t=cr&rctype=oth&orgclktk=1e93ebqfnnguf801&vjs=3&wwwho=4m_xAU4HGQbAlJdZTkhlA8hEG_rFObn1>\n",
      "2020-05-24 19:07:37 [scrapy.downloadermiddlewares.redirect] DEBUG: Redirecting (302) to <GET https://www.indeed.com/viewjob?jk=bbb0c72695e4c59c&from=serp&vjs=3> from <GET https://www.indeed.com/rc/clk?jk=bbb0c72695e4c59c&fccid=237908de095b6446&vjs=3>\n",
      "2020-05-24 19:07:42 [scrapy.downloadermiddlewares.redirect] DEBUG: Redirecting (302) to <GET https://www.indeed.com/viewjob?jk=44d81949affdc9ec&from=serp&vjs=3> from <GET https://us.conv.indeed.com/rc/clk?jk=44d81949affdc9ec&ctk=1e93ec432f23j802&t=cr&rctype=oth&orgclktk=1e93ec436f23j801&vjs=3&wwwho=4m_xAU4HGQbAlJdZTkhlA8hEG_rFObn1>\n",
      "2020-05-24 19:07:49 [scrapy.core.engine] DEBUG: Crawled (200) <GET https://www.indeed.com/viewjob?jk=70388dfaf7fc2709&from=serp&vjs=3> (referer: https://www.indeed.com/jobs?q=data+scientist&l=San+Francisco+Bay+Area%2C+CA&radius=50&start=20)\n",
      "2020-05-24 19:07:54 [scrapy.core.engine] DEBUG: Crawled (200) <GET https://www.indeed.com/viewjob?jk=593e22de9139a6f1&from=serp&vjs=3> (referer: https://www.indeed.com/jobs?q=data+scientist&l=San+Francisco+Bay+Area%2C+CA&radius=50&start=30)\n",
      "2020-05-24 19:07:59 [scrapy.downloadermiddlewares.redirect] DEBUG: Redirecting (302) to <GET https://www.indeed.com/viewjob?jk=a22fab7cd15a3ac8&from=serp&vjs=3> from <GET https://www.indeed.com/rc/clk?jk=a22fab7cd15a3ac8&fccid=26727f1861532c63&vjs=3>\n",
      "2020-05-24 19:08:03 [scrapy.extensions.logstats] INFO: Crawled 33 pages (at 5 pages/min), scraped 0 items (at 0 items/min)\n",
      "2020-05-24 19:08:05 [scrapy.core.engine] DEBUG: Crawled (200) <GET https://www.indeed.com/viewjob?jk=37a1cf43ea0fcfae&from=serp&vjs=3> (referer: https://www.indeed.com/jobs?q=data+scientist&l=San+Francisco+Bay+Area%2C+CA&radius=50&start=20)\n",
      "2020-05-24 19:08:09 [scrapy.downloadermiddlewares.redirect] DEBUG: Redirecting (302) to <GET https://www.indeed.com/viewjob?jk=b1411850af17dbae&from=serp&vjs=3> from <GET https://www.indeed.com/rc/clk?jk=b1411850af17dbae&fccid=caed318a9335aac0&vjs=3>\n",
      "2020-05-24 19:08:12 [scrapy.downloadermiddlewares.redirect] DEBUG: Redirecting (302) to <GET https://us.conv.indeed.com/rc/clk?jk=ff144d812f085689&ctk=1e93efg1ubm1e802&t=cr&rctype=oth&orgclktk=1e93efg22bm1e801&vjs=3&wwwho=4m_xAU4HGQbAlJdZTkhlA8hEG_rFObn1> from <GET https://www.indeed.com/rc/clk?jk=ff144d812f085689&fccid=2a341562d64c7cdb&vjs=3>\n",
      "2020-05-24 19:08:18 [scrapy.core.engine] DEBUG: Crawled (200) <GET https://www.indeed.com/viewjob?jk=6d9df492f8e0fc9e&from=serp&vjs=3> (referer: https://www.indeed.com/jobs?q=data+scientist&l=San+Francisco+Bay+Area%2C+CA&radius=50&start=20)\n",
      "2020-05-24 19:08:23 [scrapy.core.engine] DEBUG: Crawled (200) <GET https://www.indeed.com/viewjob?jk=2a365dd985a86da5&from=serp&vjs=3> (referer: https://www.indeed.com/jobs?q=data+scientist&l=San+Francisco+Bay+Area%2C+CA&radius=50&start=20)\n",
      "2020-05-24 19:08:28 [scrapy.core.engine] DEBUG: Crawled (200) <GET https://www.indeed.com/viewjob?jk=2fdba430b3aac266&from=serp&vjs=3> (referer: https://www.indeed.com/jobs?q=data+scientist&l=San+Francisco+Bay+Area%2C+CA&radius=50&start=30)\n",
      "2020-05-24 19:08:33 [scrapy.core.engine] DEBUG: Crawled (200) <GET https://www.indeed.com/viewjob?jk=eec051c0dd0eb1d2&from=serp&vjs=3> (referer: https://www.indeed.com/jobs?q=data+scientist&l=San+Francisco+Bay+Area%2C+CA&radius=50&start=30)\n",
      "2020-05-24 19:08:39 [scrapy.core.engine] DEBUG: Crawled (200) <GET https://www.indeed.com/viewjob?jk=c52ddc743a13f227&from=serp&vjs=3> (referer: https://www.indeed.com/jobs?q=data+scientist&l=San+Francisco+Bay+Area%2C+CA&radius=50&start=30)\n",
      "2020-05-24 19:08:44 [scrapy.core.engine] DEBUG: Crawled (200) <GET https://www.indeed.com/viewjob?jk=bbb0c72695e4c59c&from=serp&vjs=3> (referer: https://www.indeed.com/jobs?q=data+scientist&l=San+Francisco+Bay+Area%2C+CA&radius=50&start=20)\n",
      "2020-05-24 19:08:50 [scrapy.core.engine] DEBUG: Crawled (200) <GET https://www.indeed.com/viewjob?jk=44d81949affdc9ec&from=serp&vjs=3> (referer: https://www.indeed.com/jobs?q=data+scientist&l=San+Francisco+Bay+Area%2C+CA&radius=50&start=30)\n",
      "2020-05-24 19:08:55 [scrapy.core.engine] DEBUG: Crawled (200) <GET https://www.indeed.com/viewjob?jk=a22fab7cd15a3ac8&from=serp&vjs=3> (referer: https://www.indeed.com/jobs?q=data+scientist&l=San+Francisco+Bay+Area%2C+CA&radius=50&start=10)\n",
      "2020-05-24 19:09:01 [scrapy.core.engine] DEBUG: Crawled (200) <GET https://www.indeed.com/viewjob?jk=b1411850af17dbae&from=serp&vjs=3> (referer: https://www.indeed.com/jobs?q=data+scientist&l=San+Francisco+Bay+Area%2C+CA&radius=50&start=10)\n",
      "2020-05-24 19:09:03 [scrapy.extensions.logstats] INFO: Crawled 43 pages (at 10 pages/min), scraped 0 items (at 0 items/min)\n",
      "2020-05-24 19:09:06 [scrapy.downloadermiddlewares.redirect] DEBUG: Redirecting (302) to <GET https://www.indeed.com/viewjob?jk=ff144d812f085689&from=serp&vjs=3> from <GET https://us.conv.indeed.com/rc/clk?jk=ff144d812f085689&ctk=1e93efg1ubm1e802&t=cr&rctype=oth&orgclktk=1e93efg22bm1e801&vjs=3&wwwho=4m_xAU4HGQbAlJdZTkhlA8hEG_rFObn1>\n",
      "2020-05-24 19:09:11 [scrapy.core.engine] DEBUG: Crawled (200) <GET https://www.indeed.com/viewjob?jk=ff144d812f085689&from=serp&vjs=3> (referer: https://www.indeed.com/jobs?q=data+scientist&l=San+Francisco+Bay+Area%2C+CA&radius=50&start=10)\n",
      "2020-05-24 19:09:11 [scrapy.core.engine] INFO: Closing spider (finished)\n",
      "2020-05-24 19:09:11 [scrapy.statscollectors] INFO: Dumping Scrapy stats:\n",
      "{'downloader/request_bytes': 38580,\n",
      " 'downloader/request_count': 100,\n",
      " 'downloader/request_method_count/GET': 100,\n",
      " 'downloader/response_bytes': 1912760,\n",
      " 'downloader/response_count': 100,\n",
      " 'downloader/response_status_count/200': 44,\n",
      " 'downloader/response_status_count/301': 1,\n",
      " 'downloader/response_status_count/302': 55,\n",
      " 'elapsed_time_seconds': 488.454008,\n",
      " 'finish_reason': 'finished',\n",
      " 'finish_time': datetime.datetime(2020, 5, 24, 13, 39, 11, 907694),\n",
      " 'log_count/DEBUG': 100,\n",
      " 'log_count/INFO': 18,\n",
      " 'memusage/max': 138203136,\n",
      " 'memusage/startup': 114212864,\n",
      " 'request_depth_max': 4,\n",
      " 'response_received_count': 44,\n",
      " 'scheduler/dequeued': 100,\n",
      " 'scheduler/dequeued/memory': 100,\n",
      " 'scheduler/enqueued': 100,\n",
      " 'scheduler/enqueued/memory': 100,\n",
      " 'start_time': datetime.datetime(2020, 5, 24, 13, 31, 3, 453686)}\n",
      "2020-05-24 19:09:11 [scrapy.core.engine] INFO: Spider closed (finished)\n"
     ]
    }
   ],
   "source": [
    "url_short = 'https://www.indeed.com/jobs?q=data+scientist&l=San+Francisco+Bay+Area,+CA&radius=50&start=0'\n",
    "\n",
    "# Create the Spider class\n",
    "class SFO_DS_Spider(scrapy.Spider):\n",
    "    name = \"sfo_ds_spider\"\n",
    "    \n",
    "    custom_settings = {\n",
    "        'COOKIES_ENABLED': False,\n",
    "        'DOWNLOAD_DELAY': 4\n",
    "    }\n",
    "    \n",
    "  # start_requests method\n",
    "    def start_requests(self):\n",
    "        yield scrapy.Request(url = url_short, callback = self.parse, dont_filter=True)\n",
    "        \n",
    "  # First parsing method\n",
    "    def parse(self, response):\n",
    "        for url in response.css('h2.title a::attr(href)').getall():\n",
    "            yield response.follow(url = url, callback = self.parse_pages)\n",
    "        \n",
    "        next_page = response.xpath('//a[@aria-label=\"Next\"]/@href').get()\n",
    "        if next_page is not None:\n",
    "                time.sleep(1)\n",
    "                yield scrapy.Request(response.urljoin(next_page),self.parse)\n",
    "\n",
    "  # Second parsing method\n",
    "    def parse_pages(self, response):\n",
    "        job_title = response.xpath('//h3[contains(@class,\"jobsearch-JobInfoHeader-title\")]/text()').extract()\n",
    "        dc_dict['title'].append(job_title)\n",
    "        job_body = response.xpath('//div[contains(@class,\"jobsearch-jobDescriptionText\")]//text()').extract()\n",
    "        dc_dict['body'].append(\" \".join([b.strip() for b in job_body]))\n",
    "        job_bullets = response.xpath('//li//text()').extract()\n",
    "        dc_dict['bullets'].append([b.strip() for b in job_bullets])\n",
    "\n",
    "# Initialize the dictionary **outside** of the Spider class\n",
    "dc_dict = {}\n",
    "for key in ['title', 'body', 'bullets']:\n",
    "    dc_dict[key] = []\n",
    "\n",
    "# Run the Spider\n",
    "process = CrawlerProcess()\n",
    "process.crawl(SFO_DS_Spider)\n",
    "process.start()"
   ]
  },
  {
   "cell_type": "code",
   "execution_count": null,
   "metadata": {
    "ExecuteTime": {
     "end_time": "2020-05-24T13:39:48.968429Z",
     "start_time": "2020-05-24T13:39:48.935034Z"
    },
    "scrolled": true
   },
   "outputs": [],
   "source": [
    "dc_dict"
   ]
  },
  {
   "cell_type": "code",
   "execution_count": 4,
   "metadata": {
    "ExecuteTime": {
     "end_time": "2020-05-24T13:39:58.319641Z",
     "start_time": "2020-05-24T13:39:58.315485Z"
    }
   },
   "outputs": [],
   "source": [
    "df_raw = pd.DataFrame(dc_dict)"
   ]
  },
  {
   "cell_type": "code",
   "execution_count": 5,
   "metadata": {
    "ExecuteTime": {
     "end_time": "2020-05-24T13:40:00.809171Z",
     "start_time": "2020-05-24T13:40:00.804207Z"
    }
   },
   "outputs": [
    {
     "data": {
      "text/plain": [
       "(40, 3)"
      ]
     },
     "execution_count": 5,
     "metadata": {},
     "output_type": "execute_result"
    }
   ],
   "source": [
    "df_raw.shape"
   ]
  },
  {
   "cell_type": "code",
   "execution_count": null,
   "metadata": {},
   "outputs": [],
   "source": []
  }
 ],
 "metadata": {
  "kernelspec": {
   "display_name": "Python 3",
   "language": "python",
   "name": "python3"
  },
  "language_info": {
   "codemirror_mode": {
    "name": "ipython",
    "version": 3
   },
   "file_extension": ".py",
   "mimetype": "text/x-python",
   "name": "python",
   "nbconvert_exporter": "python",
   "pygments_lexer": "ipython3",
   "version": "3.7.6"
  },
  "toc": {
   "base_numbering": 1,
   "nav_menu": {},
   "number_sections": true,
   "sideBar": true,
   "skip_h1_title": false,
   "title_cell": "Table of Contents",
   "title_sidebar": "Contents",
   "toc_cell": false,
   "toc_position": {},
   "toc_section_display": true,
   "toc_window_display": false
  },
  "varInspector": {
   "cols": {
    "lenName": 16,
    "lenType": 16,
    "lenVar": 40
   },
   "kernels_config": {
    "python": {
     "delete_cmd_postfix": "",
     "delete_cmd_prefix": "del ",
     "library": "var_list.py",
     "varRefreshCmd": "print(var_dic_list())"
    },
    "r": {
     "delete_cmd_postfix": ") ",
     "delete_cmd_prefix": "rm(",
     "library": "var_list.r",
     "varRefreshCmd": "cat(var_dic_list()) "
    }
   },
   "types_to_exclude": [
    "module",
    "function",
    "builtin_function_or_method",
    "instance",
    "_Feature"
   ],
   "window_display": false
  }
 },
 "nbformat": 4,
 "nbformat_minor": 4
}
